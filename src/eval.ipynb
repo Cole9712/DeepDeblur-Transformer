{
 "cells": [
  {
   "cell_type": "code",
   "execution_count": null,
   "id": "e124dbea-19b1-45b1-8bf3-592278b5390a",
   "metadata": {},
   "outputs": [],
   "source": [
    "python main.py --n_GPUs 1 --save_dir GOPRO_TMP --demo true --dataset GOPRO_Large --data_root /notebooks/dataset --model MSRTNet"
   ]
  },
  {
   "cell_type": "code",
   "execution_count": 1,
   "id": "7bbd2de8-fd8f-480b-a5ad-feed917aed30",
   "metadata": {},
   "outputs": [
    {
     "ename": "SyntaxError",
     "evalue": "invalid syntax (873198519.py, line 1)",
     "output_type": "error",
     "traceback": [
      "\u001b[0;36m  Cell \u001b[0;32mIn [1], line 1\u001b[0;36m\u001b[0m\n\u001b[0;31m    python main.py --n_GPUs 1 --save_dir GOPRO_TMP --do_train false --dataset GOPRO_Large --data_root /notebooks/dataset --model MSRTNet\u001b[0m\n\u001b[0m           ^\u001b[0m\n\u001b[0;31mSyntaxError\u001b[0m\u001b[0;31m:\u001b[0m invalid syntax\n"
     ]
    }
   ],
   "source": [
    "python main.py --n_GPUs 1 --save_dir GOPRO_TMP --do_train false --dataset GOPRO_Large --data_root /notebooks/dataset --model MSRTNet --end_epoch 10 --start_epoch 0"
   ]
  },
  {
   "cell_type": "code",
   "execution_count": null,
   "id": "51ce164d-5c7b-4626-b0b2-856552d1bd8b",
   "metadata": {},
   "outputs": [],
   "source": []
  }
 ],
 "metadata": {
  "kernelspec": {
   "display_name": "Python 3 (ipykernel)",
   "language": "python",
   "name": "python3"
  },
  "language_info": {
   "codemirror_mode": {
    "name": "ipython",
    "version": 3
   },
   "file_extension": ".py",
   "mimetype": "text/x-python",
   "name": "python",
   "nbconvert_exporter": "python",
   "pygments_lexer": "ipython3",
   "version": "3.9.16"
  }
 },
 "nbformat": 4,
 "nbformat_minor": 5
}
