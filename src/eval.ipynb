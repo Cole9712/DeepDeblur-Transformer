{
 "cells": [
  {
   "cell_type": "code",
   "execution_count": null,
   "id": "e124dbea-19b1-45b1-8bf3-592278b5390a",
   "metadata": {},
   "outputs": [],
   "source": [
    "python main.py --save_dir GOPRO_L1 --demo true --demo_input_dir /notebooks/dataset/GOPRO_Large/test/GOPR0384_11_00/blur_gamma"
   ]
  }
 ],
 "metadata": {
  "kernelspec": {
   "display_name": "Python 3 (ipykernel)",
   "language": "python",
   "name": "python3"
  },
  "language_info": {
   "codemirror_mode": {
    "name": "ipython",
    "version": 3
   },
   "file_extension": ".py",
   "mimetype": "text/x-python",
   "name": "python",
   "nbconvert_exporter": "python",
   "pygments_lexer": "ipython3",
   "version": "3.9.16"
  }
 },
 "nbformat": 4,
 "nbformat_minor": 5
}
