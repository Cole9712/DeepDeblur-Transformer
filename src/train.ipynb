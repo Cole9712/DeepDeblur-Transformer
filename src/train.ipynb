{
 "cells": [
  {
   "cell_type": "code",
   "execution_count": 2,
   "id": "9bf0d45a-2bc8-4319-b132-3529b37e88fb",
   "metadata": {},
   "outputs": [],
   "source": [
    "source /notebooks/DeepDeblur-Transformer/venv/bin/activate"
   ]
  },
  {
   "cell_type": "code",
   "execution_count": null,
   "id": "17387799-a5ba-4de8-bc05-af0dd8c81267",
   "metadata": {},
   "outputs": [],
   "source": [
    "%run main.py --n_GPUs 1 --batch_size 8 --save_dir GOPRO_TMP --dataset GOPRO_Large --data_root /notebooks/dataset\n",
    "# A6000\n",
    "!python main.py --n_GPUs 1 --batch_size 28 --save_dir GOPRO_TMP --dataset GOPRO_Large --data_root /notebooks/dataset --model MSRTNet --end_epoch 71 --patch_size 128 --validate_every 5\n",
    "!python main.py --n_GPUs 1 --batch_size 110 --save_dir GOPRO_TMP --dataset GOPRO_Large --data_root /notebooks/dataset --model MSRTNet --end_epoch 71 --patch_size 128 --validate_every 5\n",
    "\n",
    "# A100\n",
    "python main.py --n_GPUs 1 --batch_size 200 --num_workers 11 --save_dir GOPRO_128_1000 --dataset GOPRO_Large --data_root /notebooks/dataset --model MSRTNet --end_epoch 1000 --patch_size 128 --validate_every 10 --save_results all"
   ]
  },
  {
   "cell_type": "code",
   "execution_count": null,
   "id": "a9d9a767-868b-49f7-89e9-c8b7af5ab5aa",
   "metadata": {},
   "outputs": [],
   "source": [
    "python main.py --n_GPUs 1 --batch_size 128 --save_dir GOPRO_TMP --dataset GOPRO_Large --data_root /notebooks/dataset --model MSRTNet --end_epoch 71 --patch_size 64 --validate_every 1"
   ]
  },
  {
   "cell_type": "code",
   "execution_count": null,
   "id": "9be92e88-0179-4754-97b0-d42b01cdab86",
   "metadata": {},
   "outputs": [],
   "source": [
    "# train MSNet\n",
    "python main.py --n_GPUs 1 --batch_size 140 --save_dir GOPRO_128_MSResNet --dataset GOPRO_Large --data_root /notebooks/dataset --model MSResNet --end_epoch 1000 --patch_size 128"
   ]
  }
 ],
 "metadata": {
  "kernelspec": {
   "display_name": "Python 3 (ipykernel)",
   "language": "python",
   "name": "python3"
  },
  "language_info": {
   "codemirror_mode": {
    "name": "ipython",
    "version": 3
   },
   "file_extension": ".py",
   "mimetype": "text/x-python",
   "name": "python",
   "nbconvert_exporter": "python",
   "pygments_lexer": "ipython3",
   "version": "3.9.16"
  }
 },
 "nbformat": 4,
 "nbformat_minor": 5
}
